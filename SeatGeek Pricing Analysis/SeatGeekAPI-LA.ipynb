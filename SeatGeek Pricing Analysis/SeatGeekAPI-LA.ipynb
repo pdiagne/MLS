{
 "cells": [
  {
   "cell_type": "code",
   "execution_count": 1,
   "metadata": {},
   "outputs": [],
   "source": [
    "# Load  libraries\n",
    "import pylab as pl\n",
    "import urllib.request as urllib\n",
    "import sys\n",
    "import json\n",
    "import os\n",
    "import pandas as pd\n",
    "from pandas.io.json import json_normalize"
   ]
  },
  {
   "cell_type": "code",
   "execution_count": 2,
   "metadata": {},
   "outputs": [],
   "source": [
    "# SeatGeek API login info:\n",
    "app_secret = ''\n",
    "client_id = ''"
   ]
  },
  {
   "cell_type": "code",
   "execution_count": 3,
   "metadata": {},
   "outputs": [],
   "source": [
    "# Specify city 'los-angeles'\n",
    "start_date = '2016-12-31'\n",
    "end_date = '2019-12-31'\n",
    "state='CA'\n",
    "city='los-angeles'\n",
    "page_lim = '3000'\n",
    "url = 'https://api.seatgeek.com/2/events?datetime_utc.gt=2015-05-01&venue.city='+city+'&per_page=5000&page=1&client_id=MTM1OTgyNTh8MTUzOTg3NzQzMS4w'"
   ]
  },
  {
   "cell_type": "code",
   "execution_count": 4,
   "metadata": {},
   "outputs": [],
   "source": [
    "# Grab data and export\n",
    "response = urllib.urlopen(url)\n",
    "data = response.read().decode(\"utf-8\")\n",
    "data = json.loads(data)\n",
    "LA_events = json_normalize(data['events'])\n",
    "LA_events.to_csv('LA_.csv')"
   ]
  }
 ],
 "metadata": {
  "kernelspec": {
   "display_name": "Python 3",
   "language": "python",
   "name": "python3"
  },
  "language_info": {
   "codemirror_mode": {
    "name": "ipython",
    "version": 3
   },
   "file_extension": ".py",
   "mimetype": "text/x-python",
   "name": "python",
   "nbconvert_exporter": "python",
   "pygments_lexer": "ipython3",
   "version": "3.7.3"
  }
 },
 "nbformat": 4,
 "nbformat_minor": 2
}
